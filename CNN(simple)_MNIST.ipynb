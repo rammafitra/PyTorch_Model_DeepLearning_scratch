{
  "nbformat": 4,
  "nbformat_minor": 0,
  "metadata": {
    "colab": {
      "name": "CNN(simple)_MNIST.ipynb",
      "provenance": [],
      "collapsed_sections": [],
      "toc_visible": true,
      "authorship_tag": "ABX9TyPu66WUJWrCILRqV/RywexB",
      "include_colab_link": true
    },
    "kernelspec": {
      "name": "python3",
      "display_name": "Python 3"
    },
    "language_info": {
      "name": "python"
    },
    "accelerator": "GPU",
    "widgets": {
      "application/vnd.jupyter.widget-state+json": {
        "95d5dcc1d7744fb9a3b7ea37e9b0288f": {
          "model_module": "@jupyter-widgets/controls",
          "model_name": "HBoxModel",
          "state": {
            "_view_name": "HBoxView",
            "_dom_classes": [],
            "_model_name": "HBoxModel",
            "_view_module": "@jupyter-widgets/controls",
            "_model_module_version": "1.5.0",
            "_view_count": null,
            "_view_module_version": "1.5.0",
            "box_style": "",
            "layout": "IPY_MODEL_283fa7f68411471c85ffc091503d49a2",
            "_model_module": "@jupyter-widgets/controls",
            "children": [
              "IPY_MODEL_1ab7c6959e384655987d9efbee7c9ef4",
              "IPY_MODEL_1a22c2a9bd9749fcaa6dad0b010e5580"
            ]
          }
        },
        "283fa7f68411471c85ffc091503d49a2": {
          "model_module": "@jupyter-widgets/base",
          "model_name": "LayoutModel",
          "state": {
            "_view_name": "LayoutView",
            "grid_template_rows": null,
            "right": null,
            "justify_content": null,
            "_view_module": "@jupyter-widgets/base",
            "overflow": null,
            "_model_module_version": "1.2.0",
            "_view_count": null,
            "flex_flow": null,
            "width": null,
            "min_width": null,
            "border": null,
            "align_items": null,
            "bottom": null,
            "_model_module": "@jupyter-widgets/base",
            "top": null,
            "grid_column": null,
            "overflow_y": null,
            "overflow_x": null,
            "grid_auto_flow": null,
            "grid_area": null,
            "grid_template_columns": null,
            "flex": null,
            "_model_name": "LayoutModel",
            "justify_items": null,
            "grid_row": null,
            "max_height": null,
            "align_content": null,
            "visibility": null,
            "align_self": null,
            "height": null,
            "min_height": null,
            "padding": null,
            "grid_auto_rows": null,
            "grid_gap": null,
            "max_width": null,
            "order": null,
            "_view_module_version": "1.2.0",
            "grid_template_areas": null,
            "object_position": null,
            "object_fit": null,
            "grid_auto_columns": null,
            "margin": null,
            "display": null,
            "left": null
          }
        },
        "1ab7c6959e384655987d9efbee7c9ef4": {
          "model_module": "@jupyter-widgets/controls",
          "model_name": "FloatProgressModel",
          "state": {
            "_view_name": "ProgressView",
            "style": "IPY_MODEL_395fd42198fc418a92d8260b20c84550",
            "_dom_classes": [],
            "description": "",
            "_model_name": "FloatProgressModel",
            "bar_style": "success",
            "max": 9912422,
            "_view_module": "@jupyter-widgets/controls",
            "_model_module_version": "1.5.0",
            "value": 9912422,
            "_view_count": null,
            "_view_module_version": "1.5.0",
            "orientation": "horizontal",
            "min": 0,
            "description_tooltip": null,
            "_model_module": "@jupyter-widgets/controls",
            "layout": "IPY_MODEL_79f0d5aede024d7185f3724369d83045"
          }
        },
        "1a22c2a9bd9749fcaa6dad0b010e5580": {
          "model_module": "@jupyter-widgets/controls",
          "model_name": "HTMLModel",
          "state": {
            "_view_name": "HTMLView",
            "style": "IPY_MODEL_c02be13a93214a9390febfaf34ffde2b",
            "_dom_classes": [],
            "description": "",
            "_model_name": "HTMLModel",
            "placeholder": "​",
            "_view_module": "@jupyter-widgets/controls",
            "_model_module_version": "1.5.0",
            "value": " 9913344/? [04:56&lt;00:00, 33392.33it/s]",
            "_view_count": null,
            "_view_module_version": "1.5.0",
            "description_tooltip": null,
            "_model_module": "@jupyter-widgets/controls",
            "layout": "IPY_MODEL_092d25c438de4e3c8ff285de86ccd8d9"
          }
        },
        "395fd42198fc418a92d8260b20c84550": {
          "model_module": "@jupyter-widgets/controls",
          "model_name": "ProgressStyleModel",
          "state": {
            "_view_name": "StyleView",
            "_model_name": "ProgressStyleModel",
            "description_width": "initial",
            "_view_module": "@jupyter-widgets/base",
            "_model_module_version": "1.5.0",
            "_view_count": null,
            "_view_module_version": "1.2.0",
            "bar_color": null,
            "_model_module": "@jupyter-widgets/controls"
          }
        },
        "79f0d5aede024d7185f3724369d83045": {
          "model_module": "@jupyter-widgets/base",
          "model_name": "LayoutModel",
          "state": {
            "_view_name": "LayoutView",
            "grid_template_rows": null,
            "right": null,
            "justify_content": null,
            "_view_module": "@jupyter-widgets/base",
            "overflow": null,
            "_model_module_version": "1.2.0",
            "_view_count": null,
            "flex_flow": null,
            "width": null,
            "min_width": null,
            "border": null,
            "align_items": null,
            "bottom": null,
            "_model_module": "@jupyter-widgets/base",
            "top": null,
            "grid_column": null,
            "overflow_y": null,
            "overflow_x": null,
            "grid_auto_flow": null,
            "grid_area": null,
            "grid_template_columns": null,
            "flex": null,
            "_model_name": "LayoutModel",
            "justify_items": null,
            "grid_row": null,
            "max_height": null,
            "align_content": null,
            "visibility": null,
            "align_self": null,
            "height": null,
            "min_height": null,
            "padding": null,
            "grid_auto_rows": null,
            "grid_gap": null,
            "max_width": null,
            "order": null,
            "_view_module_version": "1.2.0",
            "grid_template_areas": null,
            "object_position": null,
            "object_fit": null,
            "grid_auto_columns": null,
            "margin": null,
            "display": null,
            "left": null
          }
        },
        "c02be13a93214a9390febfaf34ffde2b": {
          "model_module": "@jupyter-widgets/controls",
          "model_name": "DescriptionStyleModel",
          "state": {
            "_view_name": "StyleView",
            "_model_name": "DescriptionStyleModel",
            "description_width": "",
            "_view_module": "@jupyter-widgets/base",
            "_model_module_version": "1.5.0",
            "_view_count": null,
            "_view_module_version": "1.2.0",
            "_model_module": "@jupyter-widgets/controls"
          }
        },
        "092d25c438de4e3c8ff285de86ccd8d9": {
          "model_module": "@jupyter-widgets/base",
          "model_name": "LayoutModel",
          "state": {
            "_view_name": "LayoutView",
            "grid_template_rows": null,
            "right": null,
            "justify_content": null,
            "_view_module": "@jupyter-widgets/base",
            "overflow": null,
            "_model_module_version": "1.2.0",
            "_view_count": null,
            "flex_flow": null,
            "width": null,
            "min_width": null,
            "border": null,
            "align_items": null,
            "bottom": null,
            "_model_module": "@jupyter-widgets/base",
            "top": null,
            "grid_column": null,
            "overflow_y": null,
            "overflow_x": null,
            "grid_auto_flow": null,
            "grid_area": null,
            "grid_template_columns": null,
            "flex": null,
            "_model_name": "LayoutModel",
            "justify_items": null,
            "grid_row": null,
            "max_height": null,
            "align_content": null,
            "visibility": null,
            "align_self": null,
            "height": null,
            "min_height": null,
            "padding": null,
            "grid_auto_rows": null,
            "grid_gap": null,
            "max_width": null,
            "order": null,
            "_view_module_version": "1.2.0",
            "grid_template_areas": null,
            "object_position": null,
            "object_fit": null,
            "grid_auto_columns": null,
            "margin": null,
            "display": null,
            "left": null
          }
        },
        "0bfa3dd2a0d7431db379373750bacaf0": {
          "model_module": "@jupyter-widgets/controls",
          "model_name": "HBoxModel",
          "state": {
            "_view_name": "HBoxView",
            "_dom_classes": [],
            "_model_name": "HBoxModel",
            "_view_module": "@jupyter-widgets/controls",
            "_model_module_version": "1.5.0",
            "_view_count": null,
            "_view_module_version": "1.5.0",
            "box_style": "",
            "layout": "IPY_MODEL_4d0743f5128e4f43aebef87d3a978bc0",
            "_model_module": "@jupyter-widgets/controls",
            "children": [
              "IPY_MODEL_c9e35c11f9b144a691b77d4a24d67538",
              "IPY_MODEL_adf33c0e1c9c4a35a598fe1ed43c08ea"
            ]
          }
        },
        "4d0743f5128e4f43aebef87d3a978bc0": {
          "model_module": "@jupyter-widgets/base",
          "model_name": "LayoutModel",
          "state": {
            "_view_name": "LayoutView",
            "grid_template_rows": null,
            "right": null,
            "justify_content": null,
            "_view_module": "@jupyter-widgets/base",
            "overflow": null,
            "_model_module_version": "1.2.0",
            "_view_count": null,
            "flex_flow": null,
            "width": null,
            "min_width": null,
            "border": null,
            "align_items": null,
            "bottom": null,
            "_model_module": "@jupyter-widgets/base",
            "top": null,
            "grid_column": null,
            "overflow_y": null,
            "overflow_x": null,
            "grid_auto_flow": null,
            "grid_area": null,
            "grid_template_columns": null,
            "flex": null,
            "_model_name": "LayoutModel",
            "justify_items": null,
            "grid_row": null,
            "max_height": null,
            "align_content": null,
            "visibility": null,
            "align_self": null,
            "height": null,
            "min_height": null,
            "padding": null,
            "grid_auto_rows": null,
            "grid_gap": null,
            "max_width": null,
            "order": null,
            "_view_module_version": "1.2.0",
            "grid_template_areas": null,
            "object_position": null,
            "object_fit": null,
            "grid_auto_columns": null,
            "margin": null,
            "display": null,
            "left": null
          }
        },
        "c9e35c11f9b144a691b77d4a24d67538": {
          "model_module": "@jupyter-widgets/controls",
          "model_name": "FloatProgressModel",
          "state": {
            "_view_name": "ProgressView",
            "style": "IPY_MODEL_5b69c691cff245df8d1edde7807d39ca",
            "_dom_classes": [],
            "description": "",
            "_model_name": "FloatProgressModel",
            "bar_style": "success",
            "max": 28881,
            "_view_module": "@jupyter-widgets/controls",
            "_model_module_version": "1.5.0",
            "value": 28881,
            "_view_count": null,
            "_view_module_version": "1.5.0",
            "orientation": "horizontal",
            "min": 0,
            "description_tooltip": null,
            "_model_module": "@jupyter-widgets/controls",
            "layout": "IPY_MODEL_36386714384e45a9a2d18df170176124"
          }
        },
        "adf33c0e1c9c4a35a598fe1ed43c08ea": {
          "model_module": "@jupyter-widgets/controls",
          "model_name": "HTMLModel",
          "state": {
            "_view_name": "HTMLView",
            "style": "IPY_MODEL_48a56cb48b5e4ef09308fdea32104b42",
            "_dom_classes": [],
            "description": "",
            "_model_name": "HTMLModel",
            "placeholder": "​",
            "_view_module": "@jupyter-widgets/controls",
            "_model_module_version": "1.5.0",
            "value": " 29696/? [00:00&lt;00:00, 91656.31it/s]",
            "_view_count": null,
            "_view_module_version": "1.5.0",
            "description_tooltip": null,
            "_model_module": "@jupyter-widgets/controls",
            "layout": "IPY_MODEL_0c2fa58f1aa04f76b4f7dbcc5ba4cf0d"
          }
        },
        "5b69c691cff245df8d1edde7807d39ca": {
          "model_module": "@jupyter-widgets/controls",
          "model_name": "ProgressStyleModel",
          "state": {
            "_view_name": "StyleView",
            "_model_name": "ProgressStyleModel",
            "description_width": "initial",
            "_view_module": "@jupyter-widgets/base",
            "_model_module_version": "1.5.0",
            "_view_count": null,
            "_view_module_version": "1.2.0",
            "bar_color": null,
            "_model_module": "@jupyter-widgets/controls"
          }
        },
        "36386714384e45a9a2d18df170176124": {
          "model_module": "@jupyter-widgets/base",
          "model_name": "LayoutModel",
          "state": {
            "_view_name": "LayoutView",
            "grid_template_rows": null,
            "right": null,
            "justify_content": null,
            "_view_module": "@jupyter-widgets/base",
            "overflow": null,
            "_model_module_version": "1.2.0",
            "_view_count": null,
            "flex_flow": null,
            "width": null,
            "min_width": null,
            "border": null,
            "align_items": null,
            "bottom": null,
            "_model_module": "@jupyter-widgets/base",
            "top": null,
            "grid_column": null,
            "overflow_y": null,
            "overflow_x": null,
            "grid_auto_flow": null,
            "grid_area": null,
            "grid_template_columns": null,
            "flex": null,
            "_model_name": "LayoutModel",
            "justify_items": null,
            "grid_row": null,
            "max_height": null,
            "align_content": null,
            "visibility": null,
            "align_self": null,
            "height": null,
            "min_height": null,
            "padding": null,
            "grid_auto_rows": null,
            "grid_gap": null,
            "max_width": null,
            "order": null,
            "_view_module_version": "1.2.0",
            "grid_template_areas": null,
            "object_position": null,
            "object_fit": null,
            "grid_auto_columns": null,
            "margin": null,
            "display": null,
            "left": null
          }
        },
        "48a56cb48b5e4ef09308fdea32104b42": {
          "model_module": "@jupyter-widgets/controls",
          "model_name": "DescriptionStyleModel",
          "state": {
            "_view_name": "StyleView",
            "_model_name": "DescriptionStyleModel",
            "description_width": "",
            "_view_module": "@jupyter-widgets/base",
            "_model_module_version": "1.5.0",
            "_view_count": null,
            "_view_module_version": "1.2.0",
            "_model_module": "@jupyter-widgets/controls"
          }
        },
        "0c2fa58f1aa04f76b4f7dbcc5ba4cf0d": {
          "model_module": "@jupyter-widgets/base",
          "model_name": "LayoutModel",
          "state": {
            "_view_name": "LayoutView",
            "grid_template_rows": null,
            "right": null,
            "justify_content": null,
            "_view_module": "@jupyter-widgets/base",
            "overflow": null,
            "_model_module_version": "1.2.0",
            "_view_count": null,
            "flex_flow": null,
            "width": null,
            "min_width": null,
            "border": null,
            "align_items": null,
            "bottom": null,
            "_model_module": "@jupyter-widgets/base",
            "top": null,
            "grid_column": null,
            "overflow_y": null,
            "overflow_x": null,
            "grid_auto_flow": null,
            "grid_area": null,
            "grid_template_columns": null,
            "flex": null,
            "_model_name": "LayoutModel",
            "justify_items": null,
            "grid_row": null,
            "max_height": null,
            "align_content": null,
            "visibility": null,
            "align_self": null,
            "height": null,
            "min_height": null,
            "padding": null,
            "grid_auto_rows": null,
            "grid_gap": null,
            "max_width": null,
            "order": null,
            "_view_module_version": "1.2.0",
            "grid_template_areas": null,
            "object_position": null,
            "object_fit": null,
            "grid_auto_columns": null,
            "margin": null,
            "display": null,
            "left": null
          }
        },
        "a36e84de7c7f4799819a7e9b18f49976": {
          "model_module": "@jupyter-widgets/controls",
          "model_name": "HBoxModel",
          "state": {
            "_view_name": "HBoxView",
            "_dom_classes": [],
            "_model_name": "HBoxModel",
            "_view_module": "@jupyter-widgets/controls",
            "_model_module_version": "1.5.0",
            "_view_count": null,
            "_view_module_version": "1.5.0",
            "box_style": "",
            "layout": "IPY_MODEL_61f7b563a07041cabb561a27c54af05c",
            "_model_module": "@jupyter-widgets/controls",
            "children": [
              "IPY_MODEL_8f6741912a8e499d9f3fcf9a3fb24120",
              "IPY_MODEL_dddc6838d7104ac2abca6b503b055141"
            ]
          }
        },
        "61f7b563a07041cabb561a27c54af05c": {
          "model_module": "@jupyter-widgets/base",
          "model_name": "LayoutModel",
          "state": {
            "_view_name": "LayoutView",
            "grid_template_rows": null,
            "right": null,
            "justify_content": null,
            "_view_module": "@jupyter-widgets/base",
            "overflow": null,
            "_model_module_version": "1.2.0",
            "_view_count": null,
            "flex_flow": null,
            "width": null,
            "min_width": null,
            "border": null,
            "align_items": null,
            "bottom": null,
            "_model_module": "@jupyter-widgets/base",
            "top": null,
            "grid_column": null,
            "overflow_y": null,
            "overflow_x": null,
            "grid_auto_flow": null,
            "grid_area": null,
            "grid_template_columns": null,
            "flex": null,
            "_model_name": "LayoutModel",
            "justify_items": null,
            "grid_row": null,
            "max_height": null,
            "align_content": null,
            "visibility": null,
            "align_self": null,
            "height": null,
            "min_height": null,
            "padding": null,
            "grid_auto_rows": null,
            "grid_gap": null,
            "max_width": null,
            "order": null,
            "_view_module_version": "1.2.0",
            "grid_template_areas": null,
            "object_position": null,
            "object_fit": null,
            "grid_auto_columns": null,
            "margin": null,
            "display": null,
            "left": null
          }
        },
        "8f6741912a8e499d9f3fcf9a3fb24120": {
          "model_module": "@jupyter-widgets/controls",
          "model_name": "FloatProgressModel",
          "state": {
            "_view_name": "ProgressView",
            "style": "IPY_MODEL_f5d58bc5adba48f2adae2714624a510d",
            "_dom_classes": [],
            "description": "",
            "_model_name": "FloatProgressModel",
            "bar_style": "success",
            "max": 1648877,
            "_view_module": "@jupyter-widgets/controls",
            "_model_module_version": "1.5.0",
            "value": 1648877,
            "_view_count": null,
            "_view_module_version": "1.5.0",
            "orientation": "horizontal",
            "min": 0,
            "description_tooltip": null,
            "_model_module": "@jupyter-widgets/controls",
            "layout": "IPY_MODEL_762f6b860fcc4f0eb36da583fa872bb8"
          }
        },
        "dddc6838d7104ac2abca6b503b055141": {
          "model_module": "@jupyter-widgets/controls",
          "model_name": "HTMLModel",
          "state": {
            "_view_name": "HTMLView",
            "style": "IPY_MODEL_73ae74737c534197a78bd2d494fa45a7",
            "_dom_classes": [],
            "description": "",
            "_model_name": "HTMLModel",
            "placeholder": "​",
            "_view_module": "@jupyter-widgets/controls",
            "_model_module_version": "1.5.0",
            "value": " 1649664/? [00:48&lt;00:00, 34109.69it/s]",
            "_view_count": null,
            "_view_module_version": "1.5.0",
            "description_tooltip": null,
            "_model_module": "@jupyter-widgets/controls",
            "layout": "IPY_MODEL_13e801f6d8bd4379a9de322fe2bb29ce"
          }
        },
        "f5d58bc5adba48f2adae2714624a510d": {
          "model_module": "@jupyter-widgets/controls",
          "model_name": "ProgressStyleModel",
          "state": {
            "_view_name": "StyleView",
            "_model_name": "ProgressStyleModel",
            "description_width": "initial",
            "_view_module": "@jupyter-widgets/base",
            "_model_module_version": "1.5.0",
            "_view_count": null,
            "_view_module_version": "1.2.0",
            "bar_color": null,
            "_model_module": "@jupyter-widgets/controls"
          }
        },
        "762f6b860fcc4f0eb36da583fa872bb8": {
          "model_module": "@jupyter-widgets/base",
          "model_name": "LayoutModel",
          "state": {
            "_view_name": "LayoutView",
            "grid_template_rows": null,
            "right": null,
            "justify_content": null,
            "_view_module": "@jupyter-widgets/base",
            "overflow": null,
            "_model_module_version": "1.2.0",
            "_view_count": null,
            "flex_flow": null,
            "width": null,
            "min_width": null,
            "border": null,
            "align_items": null,
            "bottom": null,
            "_model_module": "@jupyter-widgets/base",
            "top": null,
            "grid_column": null,
            "overflow_y": null,
            "overflow_x": null,
            "grid_auto_flow": null,
            "grid_area": null,
            "grid_template_columns": null,
            "flex": null,
            "_model_name": "LayoutModel",
            "justify_items": null,
            "grid_row": null,
            "max_height": null,
            "align_content": null,
            "visibility": null,
            "align_self": null,
            "height": null,
            "min_height": null,
            "padding": null,
            "grid_auto_rows": null,
            "grid_gap": null,
            "max_width": null,
            "order": null,
            "_view_module_version": "1.2.0",
            "grid_template_areas": null,
            "object_position": null,
            "object_fit": null,
            "grid_auto_columns": null,
            "margin": null,
            "display": null,
            "left": null
          }
        },
        "73ae74737c534197a78bd2d494fa45a7": {
          "model_module": "@jupyter-widgets/controls",
          "model_name": "DescriptionStyleModel",
          "state": {
            "_view_name": "StyleView",
            "_model_name": "DescriptionStyleModel",
            "description_width": "",
            "_view_module": "@jupyter-widgets/base",
            "_model_module_version": "1.5.0",
            "_view_count": null,
            "_view_module_version": "1.2.0",
            "_model_module": "@jupyter-widgets/controls"
          }
        },
        "13e801f6d8bd4379a9de322fe2bb29ce": {
          "model_module": "@jupyter-widgets/base",
          "model_name": "LayoutModel",
          "state": {
            "_view_name": "LayoutView",
            "grid_template_rows": null,
            "right": null,
            "justify_content": null,
            "_view_module": "@jupyter-widgets/base",
            "overflow": null,
            "_model_module_version": "1.2.0",
            "_view_count": null,
            "flex_flow": null,
            "width": null,
            "min_width": null,
            "border": null,
            "align_items": null,
            "bottom": null,
            "_model_module": "@jupyter-widgets/base",
            "top": null,
            "grid_column": null,
            "overflow_y": null,
            "overflow_x": null,
            "grid_auto_flow": null,
            "grid_area": null,
            "grid_template_columns": null,
            "flex": null,
            "_model_name": "LayoutModel",
            "justify_items": null,
            "grid_row": null,
            "max_height": null,
            "align_content": null,
            "visibility": null,
            "align_self": null,
            "height": null,
            "min_height": null,
            "padding": null,
            "grid_auto_rows": null,
            "grid_gap": null,
            "max_width": null,
            "order": null,
            "_view_module_version": "1.2.0",
            "grid_template_areas": null,
            "object_position": null,
            "object_fit": null,
            "grid_auto_columns": null,
            "margin": null,
            "display": null,
            "left": null
          }
        },
        "4769187b5641412789abfeba37e9e09e": {
          "model_module": "@jupyter-widgets/controls",
          "model_name": "HBoxModel",
          "state": {
            "_view_name": "HBoxView",
            "_dom_classes": [],
            "_model_name": "HBoxModel",
            "_view_module": "@jupyter-widgets/controls",
            "_model_module_version": "1.5.0",
            "_view_count": null,
            "_view_module_version": "1.5.0",
            "box_style": "",
            "layout": "IPY_MODEL_2a23073c855246deb4b2105b350b8c9b",
            "_model_module": "@jupyter-widgets/controls",
            "children": [
              "IPY_MODEL_13190fa0463f4bb6b0075777387b84dd",
              "IPY_MODEL_fe7ada61daf6409da007b77cef5941e1"
            ]
          }
        },
        "2a23073c855246deb4b2105b350b8c9b": {
          "model_module": "@jupyter-widgets/base",
          "model_name": "LayoutModel",
          "state": {
            "_view_name": "LayoutView",
            "grid_template_rows": null,
            "right": null,
            "justify_content": null,
            "_view_module": "@jupyter-widgets/base",
            "overflow": null,
            "_model_module_version": "1.2.0",
            "_view_count": null,
            "flex_flow": null,
            "width": null,
            "min_width": null,
            "border": null,
            "align_items": null,
            "bottom": null,
            "_model_module": "@jupyter-widgets/base",
            "top": null,
            "grid_column": null,
            "overflow_y": null,
            "overflow_x": null,
            "grid_auto_flow": null,
            "grid_area": null,
            "grid_template_columns": null,
            "flex": null,
            "_model_name": "LayoutModel",
            "justify_items": null,
            "grid_row": null,
            "max_height": null,
            "align_content": null,
            "visibility": null,
            "align_self": null,
            "height": null,
            "min_height": null,
            "padding": null,
            "grid_auto_rows": null,
            "grid_gap": null,
            "max_width": null,
            "order": null,
            "_view_module_version": "1.2.0",
            "grid_template_areas": null,
            "object_position": null,
            "object_fit": null,
            "grid_auto_columns": null,
            "margin": null,
            "display": null,
            "left": null
          }
        },
        "13190fa0463f4bb6b0075777387b84dd": {
          "model_module": "@jupyter-widgets/controls",
          "model_name": "FloatProgressModel",
          "state": {
            "_view_name": "ProgressView",
            "style": "IPY_MODEL_dd7eb3d094c74e4da1bcb5bea8ed52ce",
            "_dom_classes": [],
            "description": "",
            "_model_name": "FloatProgressModel",
            "bar_style": "success",
            "max": 4542,
            "_view_module": "@jupyter-widgets/controls",
            "_model_module_version": "1.5.0",
            "value": 4542,
            "_view_count": null,
            "_view_module_version": "1.5.0",
            "orientation": "horizontal",
            "min": 0,
            "description_tooltip": null,
            "_model_module": "@jupyter-widgets/controls",
            "layout": "IPY_MODEL_2f9c0658cb8b40378e149b9681239007"
          }
        },
        "fe7ada61daf6409da007b77cef5941e1": {
          "model_module": "@jupyter-widgets/controls",
          "model_name": "HTMLModel",
          "state": {
            "_view_name": "HTMLView",
            "style": "IPY_MODEL_1d084975b41c4299911770f0124ffcaf",
            "_dom_classes": [],
            "description": "",
            "_model_name": "HTMLModel",
            "placeholder": "​",
            "_view_module": "@jupyter-widgets/controls",
            "_model_module_version": "1.5.0",
            "value": " 5120/? [00:00&lt;00:00, 20188.45it/s]",
            "_view_count": null,
            "_view_module_version": "1.5.0",
            "description_tooltip": null,
            "_model_module": "@jupyter-widgets/controls",
            "layout": "IPY_MODEL_18a8f4cafc87445ca29751a73f52a366"
          }
        },
        "dd7eb3d094c74e4da1bcb5bea8ed52ce": {
          "model_module": "@jupyter-widgets/controls",
          "model_name": "ProgressStyleModel",
          "state": {
            "_view_name": "StyleView",
            "_model_name": "ProgressStyleModel",
            "description_width": "initial",
            "_view_module": "@jupyter-widgets/base",
            "_model_module_version": "1.5.0",
            "_view_count": null,
            "_view_module_version": "1.2.0",
            "bar_color": null,
            "_model_module": "@jupyter-widgets/controls"
          }
        },
        "2f9c0658cb8b40378e149b9681239007": {
          "model_module": "@jupyter-widgets/base",
          "model_name": "LayoutModel",
          "state": {
            "_view_name": "LayoutView",
            "grid_template_rows": null,
            "right": null,
            "justify_content": null,
            "_view_module": "@jupyter-widgets/base",
            "overflow": null,
            "_model_module_version": "1.2.0",
            "_view_count": null,
            "flex_flow": null,
            "width": null,
            "min_width": null,
            "border": null,
            "align_items": null,
            "bottom": null,
            "_model_module": "@jupyter-widgets/base",
            "top": null,
            "grid_column": null,
            "overflow_y": null,
            "overflow_x": null,
            "grid_auto_flow": null,
            "grid_area": null,
            "grid_template_columns": null,
            "flex": null,
            "_model_name": "LayoutModel",
            "justify_items": null,
            "grid_row": null,
            "max_height": null,
            "align_content": null,
            "visibility": null,
            "align_self": null,
            "height": null,
            "min_height": null,
            "padding": null,
            "grid_auto_rows": null,
            "grid_gap": null,
            "max_width": null,
            "order": null,
            "_view_module_version": "1.2.0",
            "grid_template_areas": null,
            "object_position": null,
            "object_fit": null,
            "grid_auto_columns": null,
            "margin": null,
            "display": null,
            "left": null
          }
        },
        "1d084975b41c4299911770f0124ffcaf": {
          "model_module": "@jupyter-widgets/controls",
          "model_name": "DescriptionStyleModel",
          "state": {
            "_view_name": "StyleView",
            "_model_name": "DescriptionStyleModel",
            "description_width": "",
            "_view_module": "@jupyter-widgets/base",
            "_model_module_version": "1.5.0",
            "_view_count": null,
            "_view_module_version": "1.2.0",
            "_model_module": "@jupyter-widgets/controls"
          }
        },
        "18a8f4cafc87445ca29751a73f52a366": {
          "model_module": "@jupyter-widgets/base",
          "model_name": "LayoutModel",
          "state": {
            "_view_name": "LayoutView",
            "grid_template_rows": null,
            "right": null,
            "justify_content": null,
            "_view_module": "@jupyter-widgets/base",
            "overflow": null,
            "_model_module_version": "1.2.0",
            "_view_count": null,
            "flex_flow": null,
            "width": null,
            "min_width": null,
            "border": null,
            "align_items": null,
            "bottom": null,
            "_model_module": "@jupyter-widgets/base",
            "top": null,
            "grid_column": null,
            "overflow_y": null,
            "overflow_x": null,
            "grid_auto_flow": null,
            "grid_area": null,
            "grid_template_columns": null,
            "flex": null,
            "_model_name": "LayoutModel",
            "justify_items": null,
            "grid_row": null,
            "max_height": null,
            "align_content": null,
            "visibility": null,
            "align_self": null,
            "height": null,
            "min_height": null,
            "padding": null,
            "grid_auto_rows": null,
            "grid_gap": null,
            "max_width": null,
            "order": null,
            "_view_module_version": "1.2.0",
            "grid_template_areas": null,
            "object_position": null,
            "object_fit": null,
            "grid_auto_columns": null,
            "margin": null,
            "display": null,
            "left": null
          }
        }
      }
    }
  },
  "cells": [
    {
      "cell_type": "markdown",
      "metadata": {
        "id": "view-in-github",
        "colab_type": "text"
      },
      "source": [
        "<a href=\"https://colab.research.google.com/github/rammafitra/PyTorch_Model_DeepLearning_scratch/blob/main/CNN(simple)_MNIST.ipynb\" target=\"_parent\"><img src=\"https://colab.research.google.com/assets/colab-badge.svg\" alt=\"Open In Colab\"/></a>"
      ]
    },
    {
      "cell_type": "code",
      "metadata": {
        "colab": {
          "base_uri": "https://localhost:8080/",
          "height": 582,
          "referenced_widgets": [
            "95d5dcc1d7744fb9a3b7ea37e9b0288f",
            "283fa7f68411471c85ffc091503d49a2",
            "1ab7c6959e384655987d9efbee7c9ef4",
            "1a22c2a9bd9749fcaa6dad0b010e5580",
            "395fd42198fc418a92d8260b20c84550",
            "79f0d5aede024d7185f3724369d83045",
            "c02be13a93214a9390febfaf34ffde2b",
            "092d25c438de4e3c8ff285de86ccd8d9",
            "0bfa3dd2a0d7431db379373750bacaf0",
            "4d0743f5128e4f43aebef87d3a978bc0",
            "c9e35c11f9b144a691b77d4a24d67538",
            "adf33c0e1c9c4a35a598fe1ed43c08ea",
            "5b69c691cff245df8d1edde7807d39ca",
            "36386714384e45a9a2d18df170176124",
            "48a56cb48b5e4ef09308fdea32104b42",
            "0c2fa58f1aa04f76b4f7dbcc5ba4cf0d",
            "a36e84de7c7f4799819a7e9b18f49976",
            "61f7b563a07041cabb561a27c54af05c",
            "8f6741912a8e499d9f3fcf9a3fb24120",
            "dddc6838d7104ac2abca6b503b055141",
            "f5d58bc5adba48f2adae2714624a510d",
            "762f6b860fcc4f0eb36da583fa872bb8",
            "73ae74737c534197a78bd2d494fa45a7",
            "13e801f6d8bd4379a9de322fe2bb29ce",
            "4769187b5641412789abfeba37e9e09e",
            "2a23073c855246deb4b2105b350b8c9b",
            "13190fa0463f4bb6b0075777387b84dd",
            "fe7ada61daf6409da007b77cef5941e1",
            "dd7eb3d094c74e4da1bcb5bea8ed52ce",
            "2f9c0658cb8b40378e149b9681239007",
            "1d084975b41c4299911770f0124ffcaf",
            "18a8f4cafc87445ca29751a73f52a366"
          ]
        },
        "id": "Pv9VEI0vLuzk",
        "outputId": "d150c148-7e44-4002-8cef-ae801d290f50"
      },
      "source": [
        "from torchvision import datasets\n",
        "path2data = \"./data\"\n",
        "train_data=datasets.MNIST(path2data, train=True, download=True)"
      ],
      "execution_count": null,
      "outputs": [
        {
          "output_type": "stream",
          "text": [
            "Downloading http://yann.lecun.com/exdb/mnist/train-images-idx3-ubyte.gz\n",
            "Downloading http://yann.lecun.com/exdb/mnist/train-images-idx3-ubyte.gz to ./data/MNIST/raw/train-images-idx3-ubyte.gz\n"
          ],
          "name": "stdout"
        },
        {
          "output_type": "display_data",
          "data": {
            "application/vnd.jupyter.widget-view+json": {
              "model_id": "95d5dcc1d7744fb9a3b7ea37e9b0288f",
              "version_minor": 0,
              "version_major": 2
            },
            "text/plain": [
              "HBox(children=(FloatProgress(value=0.0, max=9912422.0), HTML(value='')))"
            ]
          },
          "metadata": {
            "tags": []
          }
        },
        {
          "output_type": "stream",
          "text": [
            "\n",
            "Extracting ./data/MNIST/raw/train-images-idx3-ubyte.gz to ./data/MNIST/raw\n",
            "\n",
            "Downloading http://yann.lecun.com/exdb/mnist/train-labels-idx1-ubyte.gz\n",
            "Downloading http://yann.lecun.com/exdb/mnist/train-labels-idx1-ubyte.gz to ./data/MNIST/raw/train-labels-idx1-ubyte.gz\n"
          ],
          "name": "stdout"
        },
        {
          "output_type": "display_data",
          "data": {
            "application/vnd.jupyter.widget-view+json": {
              "model_id": "0bfa3dd2a0d7431db379373750bacaf0",
              "version_minor": 0,
              "version_major": 2
            },
            "text/plain": [
              "HBox(children=(FloatProgress(value=0.0, max=28881.0), HTML(value='')))"
            ]
          },
          "metadata": {
            "tags": []
          }
        },
        {
          "output_type": "stream",
          "text": [
            "\n",
            "Extracting ./data/MNIST/raw/train-labels-idx1-ubyte.gz to ./data/MNIST/raw\n",
            "\n",
            "Downloading http://yann.lecun.com/exdb/mnist/t10k-images-idx3-ubyte.gz\n",
            "Downloading http://yann.lecun.com/exdb/mnist/t10k-images-idx3-ubyte.gz to ./data/MNIST/raw/t10k-images-idx3-ubyte.gz\n"
          ],
          "name": "stdout"
        },
        {
          "output_type": "display_data",
          "data": {
            "application/vnd.jupyter.widget-view+json": {
              "model_id": "a36e84de7c7f4799819a7e9b18f49976",
              "version_minor": 0,
              "version_major": 2
            },
            "text/plain": [
              "HBox(children=(FloatProgress(value=0.0, max=1648877.0), HTML(value='')))"
            ]
          },
          "metadata": {
            "tags": []
          }
        },
        {
          "output_type": "stream",
          "text": [
            "\n",
            "Extracting ./data/MNIST/raw/t10k-images-idx3-ubyte.gz to ./data/MNIST/raw\n",
            "\n",
            "Downloading http://yann.lecun.com/exdb/mnist/t10k-labels-idx1-ubyte.gz\n",
            "Downloading http://yann.lecun.com/exdb/mnist/t10k-labels-idx1-ubyte.gz to ./data/MNIST/raw/t10k-labels-idx1-ubyte.gz\n"
          ],
          "name": "stdout"
        },
        {
          "output_type": "display_data",
          "data": {
            "application/vnd.jupyter.widget-view+json": {
              "model_id": "4769187b5641412789abfeba37e9e09e",
              "version_minor": 0,
              "version_major": 2
            },
            "text/plain": [
              "HBox(children=(FloatProgress(value=0.0, max=4542.0), HTML(value='')))"
            ]
          },
          "metadata": {
            "tags": []
          }
        },
        {
          "output_type": "stream",
          "text": [
            "\n",
            "Extracting ./data/MNIST/raw/t10k-labels-idx1-ubyte.gz to ./data/MNIST/raw\n",
            "\n",
            "Processing...\n",
            "Done!\n"
          ],
          "name": "stdout"
        },
        {
          "output_type": "stream",
          "text": [
            "/usr/local/lib/python3.7/dist-packages/torchvision/datasets/mnist.py:502: UserWarning: The given NumPy array is not writeable, and PyTorch does not support non-writeable tensors. This means you can write to the underlying (supposedly non-writeable) NumPy array using the tensor. You may want to copy the array to protect its data or make it writeable before converting it to a tensor. This type of warning will be suppressed for the rest of this program. (Triggered internally at  /pytorch/torch/csrc/utils/tensor_numpy.cpp:143.)\n",
            "  return torch.from_numpy(parsed.astype(m[2], copy=False)).view(*s)\n"
          ],
          "name": "stderr"
        }
      ]
    },
    {
      "cell_type": "code",
      "metadata": {
        "colab": {
          "base_uri": "https://localhost:8080/"
        },
        "id": "4p84lJZlOMDp",
        "outputId": "7c2b33c7-0d3a-4d86-b807-67ef502f399d"
      },
      "source": [
        "#2. Then, we will extract the input data and target labels:\n",
        "x_train,y_train = train_data.data, train_data.targets\n",
        "print(x_train.shape)\n",
        "print(y_train.shape)"
      ],
      "execution_count": null,
      "outputs": [
        {
          "output_type": "stream",
          "text": [
            "torch.Size([60000, 28, 28])\n",
            "torch.Size([60000])\n"
          ],
          "name": "stdout"
        }
      ]
    },
    {
      "cell_type": "code",
      "metadata": {
        "colab": {
          "base_uri": "https://localhost:8080/"
        },
        "id": "e6Iv0IRxPHj7",
        "outputId": "19c8cc14-9631-4c26-9a09-2f72d53e7eeb"
      },
      "source": [
        "#3. Next, we will load the MNIST test dataset:\n",
        "val_data=datasets.MNIST(path2data, train=False, download=True)\n",
        "x_val,y_val = val_data.data, val_data.targets\n",
        "print(x_val.shape)\n",
        "print(y_val.shape)"
      ],
      "execution_count": null,
      "outputs": [
        {
          "output_type": "stream",
          "text": [
            "torch.Size([10000, 28, 28])\n",
            "torch.Size([10000])\n"
          ],
          "name": "stdout"
        }
      ]
    },
    {
      "cell_type": "code",
      "metadata": {
        "colab": {
          "base_uri": "https://localhost:8080/"
        },
        "id": "hIkEntCeQIeK",
        "outputId": "dfd1499c-f959-4b61-951b-a42d9629ba3c"
      },
      "source": [
        "#5. After that, we will add a new dimension to the tensors:\n",
        "if len(x_train.shape) == 3:\n",
        "  x_train = x_train.unsqueeze(1)\n",
        "print(x_train.shape)\n",
        "\n",
        "if len(x_val.shape) == 3:\n",
        "  x_val = x_val.unsqueeze(1)\n",
        "print(x_val.shape)\n"
      ],
      "execution_count": null,
      "outputs": [
        {
          "output_type": "stream",
          "text": [
            "torch.Size([60000, 1, 28, 28])\n",
            "torch.Size([10000, 1, 28, 28])\n"
          ],
          "name": "stdout"
        }
      ]
    },
    {
      "cell_type": "code",
      "metadata": {
        "colab": {
          "base_uri": "https://localhost:8080/",
          "height": 278
        },
        "id": "7NMP1RP3RC9y",
        "outputId": "409eecec-0dc0-40ac-d8cd-996d645419b3"
      },
      "source": [
        "#6. Next, we will import the required packages:\n",
        "from torchvision import utils \n",
        "import matplotlib.pyplot as plt \n",
        "import numpy as np\n",
        "%matplotlib inline\n",
        "\n",
        "#7. Then, we will define a helper function to display tensors as images:\n",
        "def show(img):\n",
        "  # convert tensor to numpy array\n",
        "  npimg = img.numpy()\n",
        "  # Convert to H*W*C shape\n",
        "  npimg_tr=np.transpose(npimg, (1,2,0))\n",
        "  plt.imshow(npimg_tr,interpolation='nearest')\n",
        "\n",
        "#8. Next, we will create a grid of images and display them:\n",
        "# make a grid of 40 images, 8 images per row\n",
        "x_grid=utils.make_grid(x_train[:40], nrow=8, padding=2)\n",
        "print(x_grid.shape)\n",
        "# call helper function\n",
        "show(x_grid)"
      ],
      "execution_count": null,
      "outputs": [
        {
          "output_type": "stream",
          "text": [
            "torch.Size([3, 152, 242])\n"
          ],
          "name": "stdout"
        },
        {
          "output_type": "display_data",
          "data": {
            "image/png": "[encoded data removed]",
            "text/plain": [
              "<Figure size 432x288 with 1 Axes>"
            ]
          },
          "metadata": {
            "tags": [],
            "needs_background": "light"
          }
        }
      ]
    },
    {
      "cell_type": "markdown",
      "metadata": {
        "id": "DogkQmuXSfK5"
      },
      "source": [
        "#**Data Transformation**"
      ]
    },
    {
      "cell_type": "code",
      "metadata": {
        "colab": {
          "base_uri": "https://localhost:8080/",
          "height": 233
        },
        "id": "DUqyYxHbSltP",
        "outputId": "14a471bb-d335-4188-8506-7e943ab7ee83"
      },
      "source": [
        "#1. Let's define a transform class in order to apply some image transformations on the MNIST dataset:\n",
        "from torchvision import transforms\n",
        "# loading MNIST training dataset\n",
        "train_data=datasets.MNIST(path2data, train=True, download=True)\n",
        "# define transformations\n",
        "data_transform = transforms.Compose([\n",
        "  transforms.RandomHorizontalFlip(p=1),\n",
        "  transforms.RandomVerticalFlip(p=1),\n",
        "  transforms.ToTensor(),\n",
        "  ])\n",
        "\n",
        "\n",
        "#2. Let's apply the transformations on an image from the MNIST dataset:\n",
        "# get a sample image from training dataset\n",
        "img = train_data[0][0]\n",
        "# transform sample image\n",
        "img_tr=data_transform(img)\n",
        "# convert tensor to numpy array\n",
        "img_tr_np=img_tr.numpy()\n",
        "\n",
        "# show original and transformed images\n",
        "plt.subplot(1,2,1)\n",
        "plt.imshow(img,cmap=\"gray\")\n",
        "plt.title(\"original\")\n",
        "plt.subplot(1,2,2)\n",
        "plt.imshow(img_tr_np[0],cmap=\"gray\");\n",
        "plt.title(\"transformed\")"
      ],
      "execution_count": null,
      "outputs": [
        {
          "output_type": "execute_result",
          "data": {
            "text/plain": [
              "Text(0.5, 1.0, 'transformed')"
            ]
          },
          "metadata": {
            "tags": []
          },
          "execution_count": 6
        },
        {
          "output_type": "display_data",
          "data": {
            "image/png": "[encoded data removed]",
            "text/plain": [
              "<Figure size 432x288 with 2 Axes>"
            ]
          },
          "metadata": {
            "tags": [],
            "needs_background": "light"
          }
        }
      ]
    },
    {
      "cell_type": "code",
      "metadata": {
        "id": "xBBSwubgTXPX"
      },
      "source": [
        "#3. We can also pass the transformer function to the dataset class:\n",
        "# define transformations\n",
        "data_transform = transforms.Compose([\n",
        "  transforms.RandomHorizontalFlip(1),\n",
        "  transforms.RandomVerticalFlip(1),\n",
        "  transforms.ToTensor(),\n",
        "  ])\n",
        "# Loading MNIST training data with on-the-fly transformations\n",
        "train_data=datasets.MNIST(path2data, train=True, download=True,\n",
        "transform=data_transform )"
      ],
      "execution_count": null,
      "outputs": []
    },
    {
      "cell_type": "markdown",
      "metadata": {
        "id": "0PnD9eSTUINt"
      },
      "source": [
        "#**Wrapping tensors into a dataset**"
      ]
    },
    {
      "cell_type": "code",
      "metadata": {
        "colab": {
          "base_uri": "https://localhost:8080/"
        },
        "id": "4cTSepS7UkJI",
        "outputId": "8bedfcb1-35be-4b2a-aec6-1dc3058250f1"
      },
      "source": [
        "#1. Let's create a PyTorch dataset by wrapping x_train and y_train :\n",
        "from torch.utils.data import TensorDataset\n",
        "# wrap tensors into a dataset\n",
        "train_ds = TensorDataset(x_train, y_train)\n",
        "val_ds = TensorDataset(x_val, y_val)\n",
        "for x,y in train_ds:\n",
        "  print(x.shape,y.item())\n",
        "  break"
      ],
      "execution_count": null,
      "outputs": [
        {
          "output_type": "stream",
          "text": [
            "torch.Size([1, 28, 28]) 5\n"
          ],
          "name": "stdout"
        }
      ]
    },
    {
      "cell_type": "markdown",
      "metadata": {
        "id": "LKzobASlVYpJ"
      },
      "source": [
        "#**Creating data loaders**\n"
      ]
    },
    {
      "cell_type": "code",
      "metadata": {
        "colab": {
          "base_uri": "https://localhost:8080/"
        },
        "id": "PNIoeXCXVpKN",
        "outputId": "5eccf7b9-3d92-4f34-8e4e-21071e071fcd"
      },
      "source": [
        "#1. Let's create two data loaders for the training and validation datasets:\n",
        "from torch.utils.data import DataLoader\n",
        "# create a data loader from dataset\n",
        "train_dl = DataLoader(train_ds, batch_size=8)\n",
        "val_dl = DataLoader(val_ds, batch_size=8)\n",
        "# iterate over batches\n",
        "for xb,yb in train_dl:\n",
        "  print(xb.shape)\n",
        "  print(yb.shape)\n",
        "  break"
      ],
      "execution_count": null,
      "outputs": [
        {
          "output_type": "stream",
          "text": [
            "torch.Size([8, 1, 28, 28])\n",
            "torch.Size([8])\n"
          ],
          "name": "stdout"
        }
      ]
    },
    {
      "cell_type": "markdown",
      "metadata": {
        "id": "NVO_xgCNW8UK"
      },
      "source": [
        "#**Building Model**"
      ]
    },
    {
      "cell_type": "code",
      "metadata": {
        "colab": {
          "base_uri": "https://localhost:8080/"
        },
        "id": "do20tN-KXAAh",
        "outputId": "8d106294-168d-405c-825d-97505b148daa"
      },
      "source": [
        "#1. First, we will implement the bulk of the class:\n",
        "import torch.nn.functional as F\n",
        "from torch import nn\n",
        "class Net(nn.Module):\n",
        "  def __init__(self):\n",
        "    super(Net, self).__init__()\n",
        "  def forward(self, x):\n",
        "    pass\n",
        "\n",
        "def __init__(self):\n",
        "  super(Net, self).__init__()\n",
        "  self.conv1 = nn.Conv2d(1, 20, 5, 1)\n",
        "  self.conv2 = nn.Conv2d(20, 50, 5, 1)\n",
        "  self.fc1 = nn.Linear(4*4*50, 500)\n",
        "  self.fc2 = nn.Linear(500, 10)\n",
        "\n",
        "def forward(self, x):\n",
        "  x = F.relu(self.conv1(x))\n",
        "  x = F.max_pool2d(x, 2, 2)\n",
        "  x = F.relu(self.conv2(x))\n",
        "  x = F.max_pool2d(x, 2, 2)\n",
        "  x = x.view(-1, 4*4*50)\n",
        "  x = F.relu(self.fc1(x))\n",
        "  x = self.fc2(x)\n",
        "  return F.log_softmax(x, dim=1)\n",
        "\n",
        "Net.__init__ = __init__\n",
        "Net.forward = forward\n",
        "\n",
        "\n",
        "model = Net()\n",
        "print(model)\n"
      ],
      "execution_count": null,
      "outputs": [
        {
          "output_type": "stream",
          "text": [
            "Net(\n",
            "  (conv1): Conv2d(1, 20, kernel_size=(5, 5), stride=(1, 1))\n",
            "  (conv2): Conv2d(20, 50, kernel_size=(5, 5), stride=(1, 1))\n",
            "  (fc1): Linear(in_features=800, out_features=500, bias=True)\n",
            "  (fc2): Linear(in_features=500, out_features=10, bias=True)\n",
            ")\n"
          ],
          "name": "stdout"
        }
      ]
    },
    {
      "cell_type": "markdown",
      "metadata": {
        "id": "bj3o383jZ_zv"
      },
      "source": [
        "#**Moving the model to a CUDA device**\n"
      ]
    },
    {
      "cell_type": "code",
      "metadata": {
        "colab": {
          "base_uri": "https://localhost:8080/"
        },
        "id": "7s-H6_s4aKeS",
        "outputId": "4f6868bf-1860-4900-8561-7d246a2ebf19"
      },
      "source": [
        "print(next(model.parameters()).device)"
      ],
      "execution_count": null,
      "outputs": [
        {
          "output_type": "stream",
          "text": [
            "cpu\n"
          ],
          "name": "stdout"
        }
      ]
    },
    {
      "cell_type": "code",
      "metadata": {
        "colab": {
          "base_uri": "https://localhost:8080/"
        },
        "id": "ZsoZcBIQaP3S",
        "outputId": "8476c9e5-0c3f-4720-af2c-2ee04cdb7cea"
      },
      "source": [
        "import torch\n",
        "device = torch.device(\"cuda:0\")\n",
        "model.to(device)\n",
        "\n",
        "print(next(model.parameters()).device)"
      ],
      "execution_count": null,
      "outputs": [
        {
          "output_type": "stream",
          "text": [
            "cuda:0\n"
          ],
          "name": "stdout"
        }
      ]
    },
    {
      "cell_type": "markdown",
      "metadata": {
        "id": "A5g5tDw6coLh"
      },
      "source": [
        "#**Printing The Model Summary**"
      ]
    },
    {
      "cell_type": "code",
      "metadata": {
        "colab": {
          "base_uri": "https://localhost:8080/"
        },
        "id": "b9ljdHjncuVF",
        "outputId": "806fa3e7-fda8-4e35-e467-5a3c54b820cd"
      },
      "source": [
        "from torchsummary import summary\n",
        "summary(model, input_size=(1, 28, 28))"
      ],
      "execution_count": null,
      "outputs": [
        {
          "output_type": "stream",
          "text": [
            "----------------------------------------------------------------\n",
            "        Layer (type)               Output Shape         Param #\n",
            "================================================================\n",
            "            Conv2d-1           [-1, 20, 24, 24]             520\n",
            "            Conv2d-2             [-1, 50, 8, 8]          25,050\n",
            "            Linear-3                  [-1, 500]         400,500\n",
            "            Linear-4                   [-1, 10]           5,010\n",
            "================================================================\n",
            "Total params: 431,080\n",
            "Trainable params: 431,080\n",
            "Non-trainable params: 0\n",
            "----------------------------------------------------------------\n",
            "Input size (MB): 0.00\n",
            "Forward/backward pass size (MB): 0.12\n",
            "Params size (MB): 1.64\n",
            "Estimated Total Size (MB): 1.76\n",
            "----------------------------------------------------------------\n"
          ],
          "name": "stdout"
        }
      ]
    },
    {
      "cell_type": "markdown",
      "metadata": {
        "id": "7C9kxvbdc9N8"
      },
      "source": [
        "#**Defining the loss function and optimizer**"
      ]
    },
    {
      "cell_type": "code",
      "metadata": {
        "colab": {
          "base_uri": "https://localhost:8080/"
        },
        "id": "XLTbvtYXc_PY",
        "outputId": "34dd4edc-ca52-4263-9e87-64674f543c01"
      },
      "source": [
        "#1. First, we will define the negative log-likelihood loss:\n",
        "from torch import nn\n",
        "loss_func = nn.NLLLoss(reduction=\"sum\")\n",
        "#2. Let's test the loss function on a mini-batch:\n",
        "for xb, yb in train_dl:\n",
        "  # move batch to cuda device\n",
        "  xb=xb.type(torch.float).to(device)\n",
        "  yb=yb.to(device)\n",
        "  # get model output\n",
        "  out=model(xb)\n",
        "  # calculate loss value\n",
        "  loss = loss_func(out, yb)\n",
        "  print (loss.item())\n",
        "  break\n",
        "#3. Let's compute the gradients with respect to the model parameters:\n",
        "# compute gradients\n",
        "loss.backward()"
      ],
      "execution_count": null,
      "outputs": [
        {
          "output_type": "stream",
          "text": [
            "100.05799102783203\n"
          ],
          "name": "stdout"
        }
      ]
    },
    {
      "cell_type": "code",
      "metadata": {
        "id": "uPTR1eAadAYI"
      },
      "source": [
        "#1. Let's define the Adam optimizer:\n",
        "from torch import optim\n",
        "opt = optim.Adam(model.parameters(), lr=1e-4)\n",
        "#2. Use the following code to update the model parameters:\n",
        "# update model parameters\n",
        "opt.step()\n",
        "#3. Next, we set the gradients to zero:\n",
        "# set gradients to zero\n",
        "opt.zero_grad()"
      ],
      "execution_count": null,
      "outputs": []
    },
    {
      "cell_type": "markdown",
      "metadata": {
        "id": "89-D_95-ewpc"
      },
      "source": [
        "#**Training and evaluation**"
      ]
    },
    {
      "cell_type": "code",
      "metadata": {
        "id": "jvayq2GPe1Cy"
      },
      "source": [
        "#1. Let's develop a helper function to compute the loss value per mini-batch:\n",
        "def loss_batch(loss_func, xb, yb,yb_h, opt=None):\n",
        "  # obtain loss\n",
        "  loss = loss_func(yb_h, yb)\n",
        "  # obtain performance metric\n",
        "  metric_b = metrics_batch(yb,yb_h)\n",
        "  if opt is not None:\n",
        "    loss.backward()\n",
        "    opt.step()\n",
        "    opt.zero_grad()\n",
        "  return loss.item(), metric_b\n",
        "\n",
        "#2. Next, we will define a helper function to compute the accuracy per mini-batch:\n",
        "def metrics_batch(target, output):\n",
        "  # obtain output class\n",
        "  pred = output.argmax(dim=1, keepdim=True)\n",
        "  # compare output class with target class\n",
        "  corrects=pred.eq(target.view_as(pred)).sum().item()\n",
        "  return corrects\n",
        "\n",
        "#3. Next, we will define a helper function to compute the loss and metric values for a dataset:\n",
        "def loss_epoch(model,loss_func,dataset_dl,opt=None):\n",
        "  loss=0.0\n",
        "  metric=0.0\n",
        "  len_data=len(dataset_dl.dataset)\n",
        "  for xb, yb in dataset_dl:\n",
        "    xb=xb.type(torch.float).to(device)\n",
        "    yb=yb.to(device)\n",
        "    # obtain model output\n",
        "    yb_h=model(xb)\n",
        "    loss_b,metric_b=loss_batch(loss_func, xb, yb,yb_h, opt)\n",
        "    loss+=loss_b\n",
        "    if metric_b is not None:\n",
        "      metric+=metric_b\n",
        "  loss/=len_data\n",
        "  metric/=len_data\n",
        "  return loss, metric\n",
        "\n",
        "#4. Finally, we will define the train_val function:\n",
        "def train_val(epochs, model, loss_func, opt, train_dl, val_dl):\n",
        "  for epoch in range(epochs):\n",
        "    model.train()\n",
        "    train_loss,train_metric=loss_epoch(model,loss_func,train_dl,opt)\n",
        "    model.eval()\n",
        "    with torch.no_grad():\n",
        "      val_loss, val_metric=loss_epoch(model,loss_func,val_dl)\n",
        "    accuracy=100*val_metric\n",
        "    print(\"epoch: %d, train loss: %.6f, val loss: %.6f,accuracy: %.2f\" %(epoch, train_loss,val_loss,accuracy)) "
      ],
      "execution_count": null,
      "outputs": []
    },
    {
      "cell_type": "code",
      "metadata": {
        "colab": {
          "base_uri": "https://localhost:8080/"
        },
        "id": "4TznY9xIdAaz",
        "outputId": "77aa878c-1d42-442a-d57a-3aa32ab6bc0a"
      },
      "source": [
        "#5. Let's train the model for a few epochs:\n",
        "# call train_val function\n",
        "num_epochs=5\n",
        "train_val(num_epochs, model, loss_func, opt, train_dl, val_dl)"
      ],
      "execution_count": null,
      "outputs": [
        {
          "output_type": "stream",
          "text": [
            "epoch: 0, train loss: 0.148710, val loss: 0.135021,accuracy: 95.41\n",
            "epoch: 1, train loss: 0.049541, val loss: 0.065996,accuracy: 98.00\n",
            "epoch: 2, train loss: 0.028659, val loss: 0.055874,accuracy: 98.50\n",
            "epoch: 3, train loss: 0.019541, val loss: 0.058262,accuracy: 98.65\n",
            "epoch: 4, train loss: 0.015978, val loss: 0.060139,accuracy: 98.61\n"
          ],
          "name": "stdout"
        }
      ]
    },
    {
      "cell_type": "markdown",
      "metadata": {
        "id": "4jJ1nmzVhCu0"
      },
      "source": [
        "#**Storing and loading models**"
      ]
    },
    {
      "cell_type": "code",
      "metadata": {
        "id": "gZemyqR5huSj"
      },
      "source": [
        "!mkdir models"
      ],
      "execution_count": 44,
      "outputs": []
    },
    {
      "cell_type": "code",
      "metadata": {
        "colab": {
          "base_uri": "https://localhost:8080/"
        },
        "id": "R3Vs4CgehIQ3",
        "outputId": "d7a1e37a-a7cb-41d7-8d36-e0fa7a426455"
      },
      "source": [
        "#1. First, we will store the model parameters or state_dict in a file:\n",
        "# define path2weights\n",
        "\n",
        "path2weights=\"./models/weights.pt\"\n",
        "# store state_dict to file\n",
        "torch.save(model.state_dict(), path2weights)\n",
        "#2. To load the model parameters from the file, we will define an object of the Net class:\n",
        "# define model: weights are randomly initiated\n",
        "_model = Net()\n",
        "#3. Then, we will load state_dict from the file:\n",
        "weights=torch.load(path2weights)\n",
        "#4. Next, we will set state_dict to the model:\n",
        "_model.load_state_dict(weights)\n",
        "\n"
      ],
      "execution_count": 45,
      "outputs": [
        {
          "output_type": "execute_result",
          "data": {
            "text/plain": [
              "<All keys matched successfully>"
            ]
          },
          "metadata": {
            "tags": []
          },
          "execution_count": 45
        }
      ]
    },
    {
      "cell_type": "markdown",
      "metadata": {
        "id": "oBwfKWhaoFYU"
      },
      "source": [
        "#**Deploying The Model**"
      ]
    },
    {
      "cell_type": "code",
      "metadata": {
        "id": "ZZdr_pCqdAd8",
        "colab": {
          "base_uri": "https://localhost:8080/",
          "height": 300
        },
        "outputId": "db13afc4-8911-4a2d-94b7-5468c1fca712"
      },
      "source": [
        "import matplotlib.pyplot as plt\n",
        "n=0\n",
        "x= x_val[n]\n",
        "y=y_val[n]\n",
        "print(x.shape)\n",
        "plt.imshow(x.numpy()[0],cmap=\"gray\")"
      ],
      "execution_count": 53,
      "outputs": [
        {
          "output_type": "stream",
          "text": [
            "torch.Size([1, 28, 28])\n"
          ],
          "name": "stdout"
        },
        {
          "output_type": "execute_result",
          "data": {
            "text/plain": [
              "<matplotlib.image.AxesImage at 0x7f8bc20d0310>"
            ]
          },
          "metadata": {
            "tags": []
          },
          "execution_count": 53
        },
        {
          "output_type": "display_data",
          "data": {
            "image/png": "[encoded data removed]",
            "text/plain": [
              "<Figure size 432x288 with 1 Axes>"
            ]
          },
          "metadata": {
            "tags": [],
            "needs_background": "light"
          }
        }
      ]
    },
    {
      "cell_type": "code",
      "metadata": {
        "id": "myMXObn2i9_w"
      },
      "source": [
        "#2. Then, we will preprocess the tensor:\n",
        "# we use unsqueeze to expand dimensions to 1*C*H*W\n",
        "x= x.unsqueeze(0)\n",
        "# convert to torch.float32\n",
        "x=x.type(torch.float)\n",
        "# move to cuda device\n",
        "x=x.to(device)"
      ],
      "execution_count": 54,
      "outputs": []
    },
    {
      "cell_type": "code",
      "metadata": {
        "colab": {
          "base_uri": "https://localhost:8080/"
        },
        "id": "bPdzdw3AjE0g",
        "outputId": "9de3c490-fa46-4ed4-d58d-0c4bdc59d0e8"
      },
      "source": [
        "#3. Next, we will get the model prediction:\n",
        "# get model output\n",
        "if torch.cuda.is_available():\n",
        "    _model.cuda()\n",
        "output=_model(x)\n",
        "# get predicted class\n",
        "pred = output.argmax(dim=1, keepdim=True)\n",
        "print(pred.item(),y.item())"
      ],
      "execution_count": 55,
      "outputs": [
        {
          "output_type": "stream",
          "text": [
            "7 7\n"
          ],
          "name": "stdout"
        }
      ]
    },
    {
      "cell_type": "code",
      "metadata": {
        "colab": {
          "base_uri": "https://localhost:8080/"
        },
        "id": "OriOVxYCoUZM",
        "outputId": "25e44d4d-2fdc-471b-c73e-e3da77c71547"
      },
      "source": [
        "!zip -r /content/models models"
      ],
      "execution_count": 60,
      "outputs": [
        {
          "output_type": "stream",
          "text": [
            "  adding: models/ (stored 0%)\n",
            "  adding: models/weights.pt (deflated 7%)\n"
          ],
          "name": "stdout"
        }
      ]
    },
    {
      "cell_type": "code",
      "metadata": {
        "colab": {
          "base_uri": "https://localhost:8080/",
          "height": 17
        },
        "id": "cwgGu6qRoY0a",
        "outputId": "f218d738-2a62-4dd4-87d0-e47ead711674"
      },
      "source": [
        "from google.colab import files\n",
        "\n",
        "files.download('/content/models.zip')"
      ],
      "execution_count": 61,
      "outputs": [
        {
          "output_type": "display_data",
          "data": {
            "application/javascript": [
              "\n",
              "    async function download(id, filename, size) {\n",
              "      if (!google.colab.kernel.accessAllowed) {\n",
              "        return;\n",
              "      }\n",
              "      const div = document.createElement('div');\n",
              "      const label = document.createElement('label');\n",
              "      label.textContent = `Downloading \"${filename}\": `;\n",
              "      div.appendChild(label);\n",
              "      const progress = document.createElement('progress');\n",
              "      progress.max = size;\n",
              "      div.appendChild(progress);\n",
              "      document.body.appendChild(div);\n",
              "\n",
              "      const buffers = [];\n",
              "      let downloaded = 0;\n",
              "\n",
              "      const channel = await google.colab.kernel.comms.open(id);\n",
              "      // Send a message to notify the kernel that we're ready.\n",
              "      channel.send({})\n",
              "\n",
              "      for await (const message of channel.messages) {\n",
              "        // Send a message to notify the kernel that we're ready.\n",
              "        channel.send({})\n",
              "        if (message.buffers) {\n",
              "          for (const buffer of message.buffers) {\n",
              "            buffers.push(buffer);\n",
              "            downloaded += buffer.byteLength;\n",
              "            progress.value = downloaded;\n",
              "          }\n",
              "        }\n",
              "      }\n",
              "      const blob = new Blob(buffers, {type: 'application/binary'});\n",
              "      const a = document.createElement('a');\n",
              "      a.href = window.URL.createObjectURL(blob);\n",
              "      a.download = filename;\n",
              "      div.appendChild(a);\n",
              "      a.click();\n",
              "      div.remove();\n",
              "    }\n",
              "  "
            ],
            "text/plain": [
              "<IPython.core.display.Javascript object>"
            ]
          },
          "metadata": {
            "tags": []
          }
        },
        {
          "output_type": "display_data",
          "data": {
            "application/javascript": [
              "download(\"download_4cc9486e-1111-434a-8c31-87a7f5ea61c4\", \"models.zip\", 1599867)"
            ],
            "text/plain": [
              "<IPython.core.display.Javascript object>"
            ]
          },
          "metadata": {
            "tags": []
          }
        }
      ]
    }
  ]
}